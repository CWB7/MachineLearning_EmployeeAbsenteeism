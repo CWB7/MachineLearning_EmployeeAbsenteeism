{
 "cells": [
  {
   "cell_type": "markdown",
   "id": "f927c0ef",
   "metadata": {},
   "source": [
    "# Data preprocessing: Absenteeism at work\n",
    "\n",
    "\n",
    "\n",
    "Identify characteristics that predict whether a person will be away from work longer than average absenteeism.\n",
    "\n",
    "Namely, to develop a model that will predict the probability of an individual being excessively absent from work."
   ]
  },
  {
   "cell_type": "code",
   "execution_count": 1,
   "id": "27fc216b",
   "metadata": {},
   "outputs": [],
   "source": [
    "import pandas as pd"
   ]
  },
  {
   "cell_type": "code",
   "execution_count": 10,
   "id": "df7589fa",
   "metadata": {},
   "outputs": [],
   "source": [
    "raw_csv_data = pd.read_csv('Absenteeism_data.csv')\n"
   ]
  },
  {
   "cell_type": "code",
   "execution_count": 11,
   "id": "69690882",
   "metadata": {},
   "outputs": [
    {
     "data": {
      "text/plain": [
       "'C:\\\\Users\\\\christiaan.brink\\\\OneDrive\\\\Github\\\\MachineLearning_Absenteeism'"
      ]
     },
     "execution_count": 11,
     "metadata": {},
     "output_type": "execute_result"
    }
   ],
   "source": []
  },
  {
   "cell_type": "code",
   "execution_count": null,
   "id": "5d0759b4",
   "metadata": {},
   "outputs": [],
   "source": []
  }
 ],
 "metadata": {
  "kernelspec": {
   "display_name": "Python 3 (ipykernel)",
   "language": "python",
   "name": "python3"
  },
  "language_info": {
   "codemirror_mode": {
    "name": "ipython",
    "version": 3
   },
   "file_extension": ".py",
   "mimetype": "text/x-python",
   "name": "python",
   "nbconvert_exporter": "python",
   "pygments_lexer": "ipython3",
   "version": "3.9.12"
  }
 },
 "nbformat": 4,
 "nbformat_minor": 5
}
